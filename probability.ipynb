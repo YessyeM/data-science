{
 "cells": [
  {
   "cell_type": "markdown",
   "metadata": {},
   "source": [
    "# HW1 - Python and Probability"
   ]
  },
  {
   "cell_type": "markdown",
   "metadata": {},
   "source": [
    "In this module, we will be using what you learned in class about python and probability and practice using the git workflow to submit assignments in this class. "
   ]
  },
  {
   "cell_type": "markdown",
   "metadata": {},
   "source": [
    "If there are aspects of python that you are rusty on, you can find a quick refresher at the following [location](https://github.com/dsahduke/Jupyter_notebooks_python). You can clone the repository by issuing the following command:\n",
    "\n",
    "```\n",
    "git clone https://github.com/dsahduke/Jupyter_notebooks_python.git\n",
    "```"
   ]
  },
  {
   "cell_type": "markdown",
   "metadata": {},
   "source": [
    "-----------"
   ]
  },
  {
   "cell_type": "markdown",
   "metadata": {},
   "source": [
    "# INSTRUCTIONS - READ CAREFULLY "
   ]
  },
  {
   "cell_type": "markdown",
   "metadata": {},
   "source": [
    "For the following assignment, you must complete the questions as follows:\n",
    "\n",
    "1. Begin by completing **2** questions by entering your answers below and then push the results to your version of the repository. You can choose to do this in as many commits as you would like.\n",
    "\n",
    "2. Once 2 of the questions have been completed, **Do NOT make further commits to the master branch directly**. Instead, \n",
    "\n",
    "#### Create a new issue in github by going to the repository and clicking the issues tab and the new issue button\n",
    "<div>\n",
    "<img src=\"./assets/issues_button.png\" width=\"250\"/>\n",
    "</div>\n",
    "<br>\n",
    "</br>\n",
    "<div>\n",
    "<img src=\"./assets/new_issue_highlight.png\" width=\"300\"/>\n",
    "</div> \n",
    " \n",
    "#### Title your new issue \"Complete Question X\" where X is the number of the question that you have not yet completed and click \"Submit New Issue\"\n",
    "\n",
    "#### In your local repository (on your computer), create a new branch with the following format:\n",
    "`git checkout -b <YOUR-NETID>/complete-question-x/1` where you replace `<YOUR-NETID>` with your netID and `x` with the question you have yet to complete. You can now see that you should be on a different branch by typing `git branch -av`\n",
    "\n",
    "#### Complete the assignment by editing the jupyter notebook and push your results up to the remote repository\n",
    "`git push --set-upstream origin <YOUR-NETID>/complete-question-x/1`\n",
    "\n",
    "Here, the `--set-upstream` flag tells git to make sure the new branch that you created locally is now associated with a branch on the remote repository (otherwise there is no way to know that you created a branch locally).\n",
    "\n",
    "#### Now, go to your remote repository and create a pull request. \n",
    "> You can either do this by clicking the automatically created button called \"compare and pull request\"\n",
    "<div>\n",
    "<img src=\"./assets/autogen_pr.png\" width=700/>\n",
    "</div>\n",
    "or manually through the Create Pull Request button on the Pull Requests Tab\n",
    "<div>\n",
    "<img src=\"./assets/new_pull_request.png\" width=150/>\n",
    "</div>\n",
    "\n",
    "Once you have done this, make sure the top of the bar says:\n",
    "<div>\n",
    "<img src=\"./assets/comparison.png\" width=800/>\n",
    "</div>\n",
    "\n",
    "where `test_branch` is your branch.\n",
    "\n",
    "Create the pull request.\n",
    "\n",
    "Normally, if you were working in a team, this is where you would review the contents of the proposed changes. Since this is an individual assignment, you can complete the PR (pull request) and click merge pull request. You should now see that your changes have been merged to the master branch. You may close the issue in github as well if you wish.\n",
    "\n",
    "Successful completion of the github portion of this assignment is worth 25 points. \n"
   ]
  },
  {
   "cell_type": "markdown",
   "metadata": {},
   "source": [
    "--------------"
   ]
  },
  {
   "cell_type": "markdown",
   "metadata": {},
   "source": [
    "# Probability and Python Exercises"
   ]
  },
  {
   "cell_type": "code",
   "execution_count": 416,
   "metadata": {},
   "outputs": [],
   "source": [
    "import numpy as np\n",
    "from scipy import stats\n",
    "import matplotlib.pyplot as plt\n",
    "import math\n",
    "%matplotlib inline\n",
    "import string"
   ]
  },
  {
   "cell_type": "markdown",
   "metadata": {},
   "source": [
    "### 1. Create a list of 1000 normally-distributed numbers with mean 10 and variance 5 and assign it to a variable\n",
    "\n",
    "$$ X \\sim N(10, 5) $$\n",
    "\n",
    "For this, you can use the `scipy.stats.norm` function. You can find the documentation [here](https://docs.scipy.org/doc/scipy/reference/generated/scipy.stats.norm.html). Look for the example that tells you how to generate random numbers!\n",
    "\n",
    "Also, be careful about your `scale` parameter -- remember, you want a *variance* of 5 here. Another thing to watch out here is that we've imported the entire `scipy.stats` module. Keep that in mind when trying to figure out how to access functions within a module."
   ]
  },
  {
   "cell_type": "markdown",
   "metadata": {},
   "source": [
    "##### [10] pts"
   ]
  },
  {
   "cell_type": "code",
   "execution_count": 417,
   "metadata": {},
   "outputs": [
    {
     "name": "stdout",
     "output_type": "stream",
     "text": [
      "[13.52116981  4.07879836  5.24974975 11.97380277 13.98507873  7.19802365\n",
      " -1.67250972  6.67342108  5.6235829   8.07716487 13.89315864  7.68245997\n",
      "  2.42376545  8.5772115   9.1143038  11.16084775 20.16871391 11.66025024\n",
      "  0.65992551  5.45031157  4.26933629 18.95166237  8.41584186 10.04258057\n",
      " 22.98525805 16.54084278  4.61093363 16.86126643 19.73549833  2.60218128\n",
      "  8.57758786 13.25135016 15.43190377  4.62448844 15.37228354  4.8392926\n",
      " 18.12706612  8.5582558   3.45192302  7.4282218   2.86577095  9.04651933\n",
      "  9.16507298 17.15981299  6.40585527 16.49280553  7.76619673  9.28415694\n",
      " 15.30517732 11.930801    5.83340297  6.70729927  6.74881046 12.46979995\n",
      "  1.55411921  8.04856337 19.58647369 13.11183493  6.74514621  5.10423429\n",
      "  2.46507437  2.1868659  13.83877273  3.76346226  5.76212831  5.44941112\n",
      " 14.85745102  3.90422485  7.57044672  8.09726572  0.773829   11.1918481\n",
      "  6.25504295 14.80701968 15.96133658  3.44993186 18.69095851  6.33172359\n",
      " 20.60451366  5.23937419  9.04044939 15.38703779  7.428536   15.41525736\n",
      "  7.82687938 15.40188405 17.34960076  2.38885048 16.33014289 10.9138238\n",
      "  0.62027052 10.03048354 10.52561498  9.81076003 15.76380298  7.14049425\n",
      "  5.87327    10.68689557 -6.23484454 18.53133348  8.07936201 15.35218825\n",
      " 12.81144377  7.58738158  0.57280122 19.35332521 10.27369869  6.60608788\n",
      " 19.28095646 16.51769167  2.48682022  7.14944703 12.6146972  12.05744292\n",
      "  5.73252832  5.01925499 22.5536754  11.94962324  5.44516197  5.46033646\n",
      "  7.0630469   2.28128693  0.51251668  3.51301919  7.09286408 12.82555268\n",
      " 19.88235744 11.43455068  6.0800297  -0.41950768  9.31933492  7.59800521\n",
      " 13.60455359  7.81443325  9.01376264  7.81622764  7.19037287  8.97803469\n",
      "  4.35812167  5.69540775  2.79068516 11.13215463 15.98848311 13.73497303\n",
      " 11.99388878  8.16074482 15.15773868 17.74405793  6.96042212 11.5011063\n",
      "  9.7049658  12.91154156  8.31014653 10.01925707 12.74767416  8.90722113\n",
      " 19.64853272  6.94956949 18.86027338 16.09411475 11.32618773  6.8410681\n",
      "  6.0771426   1.3962875  11.58994573  5.37481765 15.09052367  6.66744771\n",
      " 19.8305247  11.11408459 13.18971344  4.39254281 13.55679255 14.15988813\n",
      "  9.53500451 10.33702847  6.80684471 12.50493732 10.84958702 14.91060759\n",
      " 12.81716466 12.96026647 10.41562012  0.91264167  2.67796273  7.87491334\n",
      "  3.84863143  9.65987381  7.84809704 10.81227921  4.91947897 11.31365823\n",
      "  7.65588846  7.46495869  4.91854143  6.21849787  9.45672935  8.28638227\n",
      " 20.45853569 11.80249324 15.16462812  7.80731898  5.52164629 17.04552308\n",
      " -5.09772171 11.9451341  13.01532761 12.22854364  7.12470268  8.83922711\n",
      "  7.91431748  6.4442745  11.3543081  10.17520682  8.58249595  7.3060331\n",
      " 19.66295389 -1.56335249  8.14916478  3.54655726 -0.08308459 12.96115718\n",
      "  2.43764941 18.79124626  7.86694223  7.9503225  15.1138058  11.77140507\n",
      " 13.97306426  9.16643705 14.92617273 13.2357602   7.60926597 14.83122675\n",
      " 12.94902198  9.24678524  1.22490259  4.73194411 17.26103174 10.52653238\n",
      "  4.01992453  7.77262523  6.80877343  5.12941816 16.1692025   8.41308343\n",
      " 11.4528515  16.79290007 20.77202587  8.50635978  3.09264356 15.37739434\n",
      "  3.70335791  8.63040616 15.05587616 17.57545573 14.28679565 11.51985707\n",
      "  5.24259011 11.7070077  12.16488784 13.95968612 13.1130136   6.2617196\n",
      " 11.21527102 10.35686805  8.80417287 20.05294208 16.60122775  2.35295376\n",
      " 17.36606117 10.13270582  2.65455864  8.15149948 11.53815858  9.54871047\n",
      " 10.41831532 10.4247719  13.08333553 -1.32291872  5.63375082  4.96872426\n",
      " 14.24634493  7.53521353  3.53952887  8.8104537  15.28522173  5.43974614\n",
      "  1.08217552 13.58344069  3.42532215  7.81089565  3.49152922 11.20251649\n",
      " 10.5214267  14.89031611  9.48958734 18.38206262  2.61408686 13.47970391\n",
      "  2.5424904   2.93455684  4.44378373  7.9814212  15.08192762  6.59344153\n",
      "  9.38736428 12.67642703 17.51438884 16.4993711  -0.16003321 19.69635972\n",
      "  5.63877127  5.96291324  2.55039802 11.78257303 10.27803089  9.05612708\n",
      " 12.57165488 12.96518528  8.67601217 19.65966742 16.83096421  9.05005823\n",
      " 19.95844074  9.42879787 21.92037382 12.9178743  15.22639384  1.91208996\n",
      "  8.05386323 12.29558576 12.31290368 12.09030951  3.39595261 11.639692\n",
      " 14.18396153  6.59018163  4.31166862  2.45476701 10.66813356 11.96529075\n",
      "  2.95981501  7.14652128 15.54608499 10.18562142  1.83159618 14.66736024\n",
      "  6.62454263 10.63732924 10.20631571 12.44910183 -3.60979094  7.18542074\n",
      " 13.09995821 16.05489521  3.99832504 -0.18202146  7.35233072 11.77963418\n",
      "  4.90769118  6.59656689 10.19563387 12.98778753 12.90647852 11.71534583\n",
      " 14.25335881  8.91322673  6.4786916   9.64806987  8.96701977  6.04636111\n",
      "  3.15108291  4.27366022 12.79744543  6.5246145  20.60928309 13.22039562\n",
      "  8.64110767  9.95600283 17.38594793  8.86744291 15.20096353 17.66724243\n",
      " 13.87680313  5.3793727   9.61376187 15.89784323 15.71227601 10.99653131\n",
      "  6.53088401  1.75256095 10.4455371   4.9475815  11.30058957 10.75785369\n",
      "  1.99290472  4.83231307  9.22513731 13.04534107  8.57753548  6.46187526\n",
      "  7.20965352 13.47502839 14.16432822  1.58279264 13.28281507 14.05197226\n",
      " 14.43009266  3.22301949 16.17440725  6.68850715 17.29570405 16.47556616\n",
      " 15.22766741 16.92135247 19.85143531  8.83453701  4.17921396  9.57269293\n",
      " 10.75145327 15.09924251 17.35021874 12.69216928  5.29749275  9.74864233\n",
      " 14.48680825  6.78515149 11.51886603 17.01924724  7.51299773 10.96044976\n",
      " 11.96100033 17.92755393 14.76727276 16.04762755 15.09604986  5.88541234\n",
      "  8.33063938 11.01172459  3.54247525 13.15519895 18.236609   12.23540503\n",
      "  9.90111572 19.65506825  7.38410868 15.32112119  4.29935346  0.47451358\n",
      "  7.49061384  8.56898095 13.25455938  7.55843662  6.12016271  4.44699702\n",
      "  4.89268167 14.65324333 10.25874091  8.03853162 17.74111638  0.27597241\n",
      "  6.47303835  5.27495212  5.97343459  9.86449068  6.16897874 12.83884521\n",
      " 15.63634599 19.79038017 -3.05212247 23.58674353  0.34279293  7.54525981\n",
      "  5.21931641  4.58153195 13.85320386 16.19567821  7.39581531  9.94914605\n",
      "  4.79259786 18.00253044  9.67456891 19.82604282  4.07278194 17.43296617\n",
      "  6.0677729   2.23368758 13.8238736  14.99283597 11.30111201 13.35898176\n",
      "  8.50883326  8.6490005   1.0082595  17.63237102 11.73643953 11.03232737\n",
      " 18.11054967 10.61890927 16.69075045 13.41060177 14.19332262 13.29423832\n",
      "  4.54874103 12.05438247 18.19281885 11.29819146  8.42354752 10.389116\n",
      " 11.60250696  9.80620393 10.32641148 21.01736728 12.20238248 11.29918038\n",
      "  6.57213869  9.26500685  4.06279107  8.05602374  8.40212161  7.21964923\n",
      "  2.73227697  4.55748156 19.90873665  8.20711659 15.38306855 12.67042797\n",
      " 12.21434146  2.98383912  3.6044817  11.17484413 13.1856336   9.71025662\n",
      " 14.03554322  8.1047595  13.26313663  5.94640596 15.07615671 10.65383873\n",
      " 13.44591152 12.0070801  18.05563179 13.89783846  5.22276796  9.97568204\n",
      " -1.05796074 14.14717442  8.43574674  9.29254337 10.95959771  3.1137494\n",
      "  8.26531868  2.75386627 -0.61675039  8.30991417  9.07058931  9.9098041\n",
      "  8.79309435 12.15471449 13.00163225  7.19721677 10.98206813 14.82191479\n",
      " 12.86044425  9.78104986 11.17919615  8.78601285  7.88653674  8.02209634\n",
      " 11.74424493  8.86624169 10.46208524 16.9748103  11.95260245  9.06341256\n",
      " 10.63215394 12.00935458 13.19352231 10.44471456 12.05077949 13.60008103\n",
      " 20.244533   13.15539358  5.28466167  9.00572351  6.20267681  2.95305656\n",
      " 10.23647452 -0.60805237 11.46473988  8.28778042 -0.12429136 -0.75038378\n",
      " 15.80186417 13.53179929  5.80892029  7.85621829 -1.96150054  9.03623824\n",
      "  7.87223372 11.77259868 16.68703095 11.71463644  6.22641642  6.32337355\n",
      " -4.03669367  2.96016317 13.13199286 15.84784632  3.14200196  8.18974233\n",
      "  7.00120682 16.17766153 20.07891443  7.61580152 13.97587691  5.79043432\n",
      " 10.76863132  8.53780993  9.7889825  12.91647023 -2.97257327  5.70911774\n",
      " 11.45050185  7.64889788 11.48826679  8.93819594 11.16056858  8.3924895\n",
      "  0.20812604  0.55977109 16.31696213 -1.56429833  8.48997785  9.52663521\n",
      " 20.27176556  3.05529831 14.96294644 -1.99305273  9.77949521 11.74486193\n",
      " 10.41973241 17.41713604 11.84790508  9.78271696 12.44666371 12.423265\n",
      " 12.85080569  8.09186392 17.47503747  6.54123292 11.84796968 18.43426617\n",
      " 14.8911171   9.72754937 10.60629531 10.02152628 11.80632849 14.89834274\n",
      "  7.34098944 16.95817445  6.6793721  13.492197   10.82147849 14.05874035\n",
      " 17.60956016  9.55171749  4.76572424 10.98863148  8.40500401  1.99046425\n",
      "  2.74740111 20.6682651   6.60898753 12.28407732  7.86572925  1.71621768\n",
      " 11.25304436 10.07559684 12.18966498 10.41900992 12.67321916  7.05840369\n",
      " 22.23669077 11.66968634  8.45454674 15.00582777  8.51173209 13.51624736\n",
      " 12.15568144 16.26696762 14.64843774 12.18844035 12.93504989  6.62673605\n",
      " 14.32979872  5.37548664  5.87703047  1.98008611 12.00388582 19.43443641\n",
      "  7.65532776 14.48591769  0.99684817 14.65845891 13.99709493 12.72667028\n",
      "  8.7593031  11.30119281 11.04238491  2.13502554 11.8680363  18.06446837\n",
      "  4.32932137 10.03564564 12.62801502 16.45602878 15.94682171 -1.55913713\n",
      "  7.19674538 13.47215925 17.72901911  6.54779446  7.5923178  14.37770771\n",
      " 15.86226636 13.39746742 10.90793684  6.50080718  0.4294984  13.74873676\n",
      "  3.14047386 11.43595404  8.55022357 20.9479941   9.2995501   6.19445537\n",
      "  0.10767648  6.22620151 11.51250361  9.6907226   3.19842484  4.52196959\n",
      "  5.14842835 11.80213146 11.56811743 18.20181465 11.47745748  0.60441989\n",
      " -0.41816299  5.36149838  8.81339168  9.69307527  2.86876635  8.36705364\n",
      " -4.34053562  6.69780534  3.3290042  10.02817556 11.84723241 -3.55153488\n",
      " 11.01702996 14.69934751  4.24597948  9.36985574  5.18763147  4.43486003\n",
      "  8.892256   10.95027326  4.54551379  8.70220831  5.52179437 12.67220397\n",
      "  3.26950063 22.84960355 16.62760232 -1.69872768  9.06513512 18.63796608\n",
      " 10.24625086  4.49553849  4.95389957  8.41611729 -1.99733288 10.61118549\n",
      "  9.39875023 16.36155342 15.64367649 15.00915774 16.16290395  8.3986144\n",
      " 15.15735492  7.62958765 13.95238252  5.26806488 11.23819903  6.34894448\n",
      "  7.34954679 10.77582203  9.7318108  -5.49028942  5.78534328 17.23895476\n",
      " 17.87824615  2.99406499 14.35621426 12.10483754 14.33288971  8.07443543\n",
      "  4.35842581 -0.14523742 13.91826885  3.48104668 11.35617216  6.19966937\n",
      " 13.84753502 -1.42062439 10.81744214 14.66865155 13.53355281 10.82695356\n",
      "  9.16805406 11.84633652  9.35535292  7.31152729  8.48533276  4.81980233\n",
      " 14.67825118  4.93834147 15.73502513 -0.05773237 10.24182861  9.56280176\n",
      " 14.62344091 19.2363693   9.8632625   6.83920718  8.80034935  4.01831342\n",
      "  8.09476304  9.5036132  11.09120556 10.01732915  8.40159433  6.93765579\n",
      " 14.19694737 13.30432457  8.85866269 14.21192317 11.69561518  2.3283386\n",
      "  1.73592975 15.85612789 15.23915429 10.48803187  4.38310558  6.32735878\n",
      "  2.79956464  5.22636922 10.05663458 14.98721409  9.01212436 10.47613439\n",
      "  6.04538656 10.92418479  7.83844448  2.29873113  7.03496335 -0.43879048\n",
      "  7.12707674  8.70706029 14.44077891 19.44948886 11.21691573  7.49207184\n",
      " 10.27425008  5.92742481  5.98220901  1.58854692 24.52492348  0.3798219\n",
      "  7.82135445  7.38810509  0.86368678  8.96705781 -0.97370337 13.66927773\n",
      " 11.17049691 18.45626772  8.03945099 12.2072519  10.7715326   3.23122719\n",
      " 15.7668972   0.91514414 18.99572622 13.10851745 14.45844701 16.14474049\n",
      " 10.58009657 12.2712067   9.03377746  7.27999257 15.52484978 14.36437033\n",
      "  2.00557959 18.27563323 13.21130068  4.44332525  8.32965809  9.79488584\n",
      "  9.0124125  14.96801312  0.3200843  17.47660562 12.35214708 -0.08206484\n",
      "  6.63903151  9.52331054 12.53280388 13.797522   10.30173459 11.43072625\n",
      "  4.04838192 14.56866154  4.16195776 15.3600274   0.81764413  7.51752821\n",
      " 15.18265056 17.83468772 -7.73502879  5.98063558  8.26305102 12.9065939\n",
      " 16.08541794 12.66277286 16.08795414  5.54217811  5.98856366 11.92752976\n",
      "  8.17554218  9.37623091  6.68497112  6.04935415 10.90579284 19.01359804\n",
      "  7.30608055  5.58720834  5.11170528 10.29084493  9.98861006 11.35676994\n",
      " 14.96338973 14.10467499  3.86495031  4.88197463 11.67839979  8.27166682\n",
      " 12.22252226 15.68010859  7.93893011 17.28522342 12.24791213 14.21626177\n",
      "  7.69819138  8.33751092 19.74205177 11.04431086 13.34268849  3.22738233\n",
      " 16.98214655 16.45215841 11.65206372 10.79859593 11.12454429  8.68406659\n",
      " 14.11100704 10.65625369 11.62883017  8.20304344  9.40561529 13.94445806\n",
      "  5.70849556 12.46829708  7.31332629 15.40407512 11.96411056  7.5826821\n",
      "  8.73262699 12.67129193  7.61150915  8.06928218 15.71150061 19.25594679\n",
      " 18.35286498  9.12030684  6.30308012 19.6470208 ]\n"
     ]
    }
   ],
   "source": [
    "## Your code here:\n",
    "norm_list = np.random.normal(10,5,1000)\n",
    "print(norm_list)"
   ]
  },
  {
   "cell_type": "markdown",
   "metadata": {},
   "source": [
    "### Check the *empirical* mean and variance of this distribution by using the `mean` and `std` functions from the `numpy` library on your list."
   ]
  },
  {
   "cell_type": "markdown",
   "metadata": {},
   "source": [
    "##### [5] pts"
   ]
  },
  {
   "cell_type": "code",
   "execution_count": 418,
   "metadata": {},
   "outputs": [
    {
     "name": "stdout",
     "output_type": "stream",
     "text": [
      "9.835491981187772\n"
     ]
    }
   ],
   "source": [
    "## Mean:\n",
    "print(np.mean(norm_list))"
   ]
  },
  {
   "cell_type": "code",
   "execution_count": 419,
   "metadata": {},
   "outputs": [
    {
     "name": "stdout",
     "output_type": "stream",
     "text": [
      "5.239436297562938\n"
     ]
    }
   ],
   "source": [
    "## Variance:\n",
    "print(np.std(norm_list))"
   ]
  },
  {
   "cell_type": "markdown",
   "metadata": {},
   "source": [
    "### 2. The Multivariate Normal"
   ]
  },
  {
   "cell_type": "markdown",
   "metadata": {},
   "source": [
    "For this step, we're going to emulate draws from a bivariate normal distribution (a 2-dimensional normal distribution). As you remember from class, the multivariate normal distribution can be expressed by a mean vector and a covariance matrix. However, we can also build our *own* bivariate normal by generating correlated values to the values that you generated above.\n",
    "\n",
    "The random normal values that you generated before were distributed\n",
    "\n",
    "$$X \\sim N(10, 5)$$ \n",
    "(This notation means the random variable X is distributed Normally with mean 10, and variance 5)\n",
    "\n",
    "Let's say that we want to generate another set of 1000 Normal random variables. However, we want them to be *correlated* with your current list. At the end, we would like the *joint* distribution of the two lists to have some non-zero *covariance*. To read more about the difference between a correlation and a covariance, click [here](http://ci.columbia.edu/ci/premba_test/c0331/s7/s7_5.html)\n",
    "\n",
    "At the end, we would like the *joint* distribution of the two lists to follow the following:\n",
    "\n",
    "$$ \\begin{bmatrix}X\\\\Y\\end{bmatrix} \\sim N(\\begin{bmatrix}10 \\\\50 \\end{bmatrix}, \\begin{bmatrix}  5&8\\\\8&20\\end{bmatrix})$$\n",
    "\n",
    "which follows the following structure:\n",
    "\n",
    "$$ \\begin{bmatrix}X\\\\Y\\end{bmatrix} \\sim N(\\begin{bmatrix} \\mu_x \\\\ \\mu_y \\end{bmatrix}, \\begin{bmatrix} \\sigma_x^2 & \\rho\\sigma_x\\sigma_y \\\\ \\rho\\sigma_y\\sigma_x & \\sigma_y^2 \\end{bmatrix})$$\n",
    "\n",
    "The diagonals of the covariance matrix are the respective variances of the two normal distributions that make up the bivariate normal. The diagonal elements represent the covariance between the two (this generalizes in *k* dimensions).\n",
    "\n",
    "The covariance in this case is 8. However, we will need to convert this to a correlation for later. The relationship between the covariance and the correlation is given as follows:\n",
    "\n",
    "$$ Cov_{xy} = \\rho_{xy}\\sigma_x\\sigma_y $$\n",
    "\n",
    "where $\\rho_{xy}$ is the correlation between $x$ and $y$"
   ]
  },
  {
   "cell_type": "markdown",
   "metadata": {},
   "source": [
    "##### [5] pts"
   ]
  },
  {
   "cell_type": "code",
   "execution_count": 420,
   "metadata": {},
   "outputs": [
    {
     "data": {
      "text/plain": [
       "0.7999999999999998"
      ]
     },
     "execution_count": 420,
     "metadata": {},
     "output_type": "execute_result"
    }
   ],
   "source": [
    "# Compute the correlation between X and Y in the \n",
    "# multivariate normal distribution above and print it here:\n",
    "cor_xy = 8/(np.sqrt(5)*np.sqrt(20))\n",
    "cor_xy"
   ]
  },
  {
   "cell_type": "markdown",
   "metadata": {},
   "source": [
    "We now want to generate a new set of 1000 normally distributed variables. However, we want to generate them based on the values of our old list. For each number $x$ generated in your old list, generate a new number which is drawn from the following distribution:\n",
    "\n",
    "$$ y \\sim N((\\mu_y + \\rho(\\frac{\\sigma_y}{\\sigma_x})(x-\\mu_x)), \\sigma^2_y (1-\\rho^2)) $$\n",
    "\n",
    "where $\\rho$ is the *correlation* between the two normal distributions that you calculated above, $\\mu_y$ is the mean of Y, and $\\sigma$ represents the standard deviation. Store the results in another list of 1000 numbers. We will do this in two different ways: Please complete the boilerplate code below"
   ]
  },
  {
   "cell_type": "markdown",
   "metadata": {},
   "source": [
    "#### Method 1 -- build a list iteratively [10 pts]"
   ]
  },
  {
   "cell_type": "code",
   "execution_count": 421,
   "metadata": {},
   "outputs": [],
   "source": [
    "## This first method will involve constructing \n",
    "## an array iteratively using a for loop:\n",
    "\n",
    "cond_normal_array1 = []\n",
    "for v in norm_list:\n",
    "    \"\"\"\n",
    "    Compute a new number depending on the value in normlist\n",
    "    and append it to cond_normal_array1\n",
    "    \"\"\"\n",
    "    # Your code here\n",
    "    mu_y = 1.6*v+34\n",
    "    y = np.random.normal(mu_y,7.2,1)\n",
    "    cond_normal_array1.append(y)\n",
    "    "
   ]
  },
  {
   "cell_type": "markdown",
   "metadata": {},
   "source": [
    "Verify that the mean and variance of the numbers that you generated match the expected distribution of $Y$"
   ]
  },
  {
   "cell_type": "code",
   "execution_count": 422,
   "metadata": {},
   "outputs": [
    {
     "name": "stdout",
     "output_type": "stream",
     "text": [
      "50.01795532655801\n"
     ]
    }
   ],
   "source": [
    "# Find the mean \n",
    "print(np.mean(cond_normal_array1))"
   ]
  },
  {
   "cell_type": "code",
   "execution_count": 423,
   "metadata": {},
   "outputs": [
    {
     "name": "stdout",
     "output_type": "stream",
     "text": [
      "11.426382331620422\n"
     ]
    }
   ],
   "source": [
    "# And variance\n",
    "print(np.std(cond_normal_array1))"
   ]
  },
  {
   "cell_type": "markdown",
   "metadata": {},
   "source": [
    "#### Method 2 - List Comprehension [10 pts]"
   ]
  },
  {
   "cell_type": "markdown",
   "metadata": {},
   "source": [
    "This method will involve writing a function that operates on a single value, and then we will apply that in a list comprehension to generate the new list\n"
   ]
  },
  {
   "cell_type": "code",
   "execution_count": 424,
   "metadata": {},
   "outputs": [],
   "source": [
    "def gen_cond_normal_val(x, y_mean, x_mean, y_std, x_std, rho):\n",
    "    cond_norm_array2 = stats.norm.rvs(loc=y_mean+rho*(y_std/x_std)*(x-x_mean),scale=math.sqrt(y_std**2*(1-rho**2)),size=1)\n",
    "    \"\"\"\n",
    "    This function returns a draw from a conditional normal distribution with the specified parameters\n",
    "    Args: (all Args numeric)\n",
    "        x: Observed value\n",
    "        y_mean: mean of Y distribution\n",
    "        x_mean: mean of X distribution\n",
    "        y_std: standard deviation of Y distribution\n",
    "        x_std: standard deviation of X distribution\n",
    "        rho: correlation between X and Y\n",
    "    Returns: \n",
    "        \n",
    "    \"\"\"\n",
    "    return cond_norm_array2"
   ]
  },
  {
   "cell_type": "code",
   "execution_count": 425,
   "metadata": {},
   "outputs": [],
   "source": [
    "cond_normal_array2 = [gen_cond_normal_val(x, 50, 10, np.sqrt(20), np.sqrt(5), 0.8) for x in norm_list] # replace the ... with your parameter values"
   ]
  },
  {
   "cell_type": "code",
   "execution_count": 426,
   "metadata": {},
   "outputs": [
    {
     "name": "stdout",
     "output_type": "stream",
     "text": [
      "49.657261896313564\n",
      "8.844718596805931\n"
     ]
    }
   ],
   "source": [
    "print(np.mean(cond_normal_array2))\n",
    "print(np.std(cond_normal_array2))"
   ]
  },
  {
   "cell_type": "markdown",
   "metadata": {},
   "source": [
    "### 3. Strings and Discrete Distributions\n",
    "\n",
    "In this section, we will use strings and dictionaries to create a draw from a discrete distribution. "
   ]
  },
  {
   "cell_type": "markdown",
   "metadata": {},
   "source": [
    "First, take the following string and perform the following operations and save it back to the same variable:\n",
    "\n",
    " 1. Remove all whitespace (spaces)\n",
    " 2. Remove all periods `.` and commas `,`\n",
    " 3. Make every letter lowercase\n",
    " "
   ]
  },
  {
   "cell_type": "markdown",
   "metadata": {},
   "source": [
    "##### [5] pts"
   ]
  },
  {
   "cell_type": "code",
   "execution_count": 427,
   "metadata": {},
   "outputs": [],
   "source": [
    "lorem_string = \"Lorem ipsum dolor sit amet, consectetur adipiscing elit, sed do eiusmod tempor incididunt ut labore et dolore magna aliqua. Ut enim ad minim veniam, quis nostrud exercitation ullamco laboris nisi ut aliquip ex ea commodo consequat. Duis aute irure dolor in reprehenderit in voluptate velit esse cillum dolore eu fugiat nulla pariatur. Excepteur sint occaecat cupidatat non proident, sunt in culpa qui officia deserunt mollit anim id est laborum.\""
   ]
  },
  {
   "cell_type": "code",
   "execution_count": 428,
   "metadata": {},
   "outputs": [
    {
     "data": {
      "text/plain": [
       "'loremipsumdolorsitametconsecteturadipiscingelitseddoeiusmodtemporincididuntutlaboreetdoloremagnaaliquautenimadminimveniamquisnostrudexercitationullamcolaborisnisiutaliquipexeacommodoconsequatduisauteiruredolorinreprehenderitinvoluptatevelitessecillumdoloreeufugiatnullapariaturexcepteursintoccaecatcupidatatnonproidentsuntinculpaquiofficiadeseruntmollitanimidestlaborum'"
      ]
     },
     "execution_count": 428,
     "metadata": {},
     "output_type": "execute_result"
    }
   ],
   "source": [
    "# Perform the operations listed above and save it back to lorem_string\n",
    "lorem_string = lorem_string.replace(' ','')\n",
    "exclude = set(string.punctuation)\n",
    "lorem_string = ''.join(ch for ch in lorem_string if ch not in exclude)\n",
    "lorem_string = lorem_string.lower()\n",
    "lorem_string"
   ]
  },
  {
   "cell_type": "markdown",
   "metadata": {},
   "source": [
    "Next, create a dictionary where the `keys` are each of the letters of the english alphabet and the `values` are the number of times it appears in the following string. Assign this to a variable called `result_dict`:"
   ]
  },
  {
   "cell_type": "markdown",
   "metadata": {},
   "source": [
    "##### [10 pts]"
   ]
  },
  {
   "cell_type": "code",
   "execution_count": 429,
   "metadata": {},
   "outputs": [
    {
     "name": "stdout",
     "output_type": "stream",
     "text": [
      "{'l': 22, 'o': 29, 'r': 22, 'e': 38, 'm': 17, 'i': 42, 'p': 11, 's': 18, 'u': 29, 'd': 19, 't': 32, 'a': 29, 'c': 16, 'n': 24, 'g': 3, 'b': 3, 'q': 5, 'v': 3, 'x': 3, 'h': 1, 'f': 3}\n",
      "dict_values([22, 29, 22, 38, 17, 42, 11, 18, 29, 19, 32, 29, 16, 24, 3, 3, 5, 3, 3, 1, 3])\n",
      "dict_keys(['l', 'o', 'r', 'e', 'm', 'i', 'p', 's', 'u', 'd', 't', 'a', 'c', 'n', 'g', 'b', 'q', 'v', 'x', 'h', 'f'])\n"
     ]
    }
   ],
   "source": [
    "# Your code here:\n",
    "result_dict = {}\n",
    "for keys in lorem_string:\n",
    "    if keys in result_dict:\n",
    "        count = result_dict[keys]\n",
    "    else:\n",
    "        count = 0  \n",
    "    count = count + 1\n",
    "    result_dict[keys] = count\n",
    "print(result_dict)\n",
    "print(result_dict.values())\n",
    "print(result_dict.keys())"
   ]
  },
  {
   "cell_type": "markdown",
   "metadata": {},
   "source": [
    "if you did everything correctly, this should output a plot!"
   ]
  },
  {
   "cell_type": "code",
   "execution_count": 430,
   "metadata": {},
   "outputs": [
    {
     "data": {
      "text/plain": [
       "<BarContainer object of 21 artists>"
      ]
     },
     "execution_count": 430,
     "metadata": {},
     "output_type": "execute_result"
    },
    {
     "data": {
      "image/png": "[encoded data removed]",
      "text/plain": [
       "<Figure size 432x288 with 1 Axes>"
      ]
     },
     "metadata": {
      "needs_background": "light"
     },
     "output_type": "display_data"
    }
   ],
   "source": [
    "# Run this line to plot the counts\n",
    "plt.bar(list(result_dict.keys()), list(result_dict.values()))"
   ]
  },
  {
   "cell_type": "markdown",
   "metadata": {},
   "source": [
    "Next, we're going to create a discrete distribution from what you saw in `result_dict`. We will take the counts of values as you observed as defining the distribution. In order to make it look more like a distribution, we need to *normalize* the counts. Recall that probability distributions must sum up to 1. So, we need to make the values in `result_dict` sum up to 1, but to keep the ratio between each of the values. To do this, simply divide every element by the sum of all of the elements. Return this new dictionary as `normalized_dict`"
   ]
  },
  {
   "cell_type": "markdown",
   "metadata": {},
   "source": [
    "##### [10] pts"
   ]
  },
  {
   "cell_type": "code",
   "execution_count": 431,
   "metadata": {},
   "outputs": [
    {
     "name": "stdout",
     "output_type": "stream",
     "text": [
      "{'l': 0.05962059620596206, 'o': 0.07859078590785908, 'r': 0.05962059620596206, 'e': 0.10298102981029811, 'm': 0.04607046070460705, 'i': 0.11382113821138211, 'p': 0.02981029810298103, 's': 0.04878048780487805, 'u': 0.07859078590785908, 'd': 0.051490514905149054, 't': 0.08672086720867209, 'a': 0.07859078590785908, 'c': 0.04336043360433604, 'n': 0.06504065040650406, 'g': 0.008130081300813007, 'b': 0.008130081300813007, 'q': 0.013550135501355014, 'v': 0.008130081300813007, 'x': 0.008130081300813007, 'h': 0.0027100271002710027, 'f': 0.008130081300813007}\n"
     ]
    },
    {
     "data": {
      "text/plain": [
       "<BarContainer object of 21 artists>"
      ]
     },
     "execution_count": 431,
     "metadata": {},
     "output_type": "execute_result"
    },
    {
     "data": {
      "image/png": "[encoded data removed]",
      "text/plain": [
       "<Figure size 432x288 with 1 Axes>"
      ]
     },
     "metadata": {
      "needs_background": "light"
     },
     "output_type": "display_data"
    }
   ],
   "source": [
    "# Your code here\n",
    "factor = 1.0/sum(result_dict.values())    \n",
    "normalized_dict = {k: v*factor for k, v in result_dict.items()}\n",
    "print(normalized_dict)\n",
    "plt.bar(list(normalized_dict.keys()), list(normalized_dict.values()))"
   ]
  },
  {
   "cell_type": "markdown",
   "metadata": {},
   "source": [
    "Next, recall that a Random Variable is a function that maps events from the sample space (here, this is the letters) to real numbers. We're going to define a random variable $X$ that takes on the values as defined by the following dictionary (any letter which does not show up in our `normalized_dict` you can ignore."
   ]
  },
  {
   "cell_type": "code",
   "execution_count": 432,
   "metadata": {},
   "outputs": [
    {
     "data": {
      "text/plain": [
       "{'a': 1,\n",
       " 'b': 2,\n",
       " 'c': 3,\n",
       " 'd': 4,\n",
       " 'e': 5,\n",
       " 'f': 6,\n",
       " 'g': 7,\n",
       " 'h': 8,\n",
       " 'i': 9,\n",
       " 'j': 10,\n",
       " 'k': 11,\n",
       " 'l': 12,\n",
       " 'm': 13,\n",
       " 'n': 14,\n",
       " 'o': 15,\n",
       " 'p': 16,\n",
       " 'q': 17,\n",
       " 'r': 18,\n",
       " 's': 19,\n",
       " 't': 20,\n",
       " 'u': 21,\n",
       " 'v': 22,\n",
       " 'w': 23,\n",
       " 'x': 24,\n",
       " 'y': 25,\n",
       " 'z': 26}"
      ]
     },
     "execution_count": 432,
     "metadata": {},
     "output_type": "execute_result"
    }
   ],
   "source": [
    "letter_dict = dict(zip(string.ascii_lowercase, range(1, len(string.ascii_lowercase)+1)))\n",
    "letter_dict"
   ]
  },
  {
   "cell_type": "markdown",
   "metadata": {},
   "source": [
    "Assume that the probabilities that you see in `normalized_dict` are the result of evaluating a probability mass function for drawing letters. Each of the letter draws is now represented by a number according to `letter_dict`. Using this information, compute the Expected Value of the distribution. In addition, write code the implements both forms of the variance formula below and verify that they are indeed equivalent.\n",
    "$$ E(X) = \\sum_ix_iP(x_i) $$\n",
    "$$ Var(X) = \\sum_i(x_i-E(X))^2P(x_i)$$\n",
    "$$ or $$\n",
    "$$Var(X)= E(X^2) - E(X)^2 $$"
   ]
  },
  {
   "cell_type": "markdown",
   "metadata": {},
   "source": [
    "##### [10] pts "
   ]
  },
  {
   "cell_type": "code",
   "execution_count": 433,
   "metadata": {},
   "outputs": [
    {
     "data": {
      "text/plain": [
       "11.96747967479675"
      ]
     },
     "execution_count": 433,
     "metadata": {},
     "output_type": "execute_result"
    }
   ],
   "source": [
    "# Expectation - Your code here\n",
    "expectation1 = 0\n",
    "for keys in normalized_dict:\n",
    "    exp1 = normalized_dict[keys]*letter_dict[keys]\n",
    "    expectation1 = expectation1 + exp1\n",
    "expectation1"
   ]
  },
  {
   "cell_type": "code",
   "execution_count": 434,
   "metadata": {},
   "outputs": [
    {
     "data": {
      "text/plain": [
       "44.00436248264921"
      ]
     },
     "execution_count": 434,
     "metadata": {},
     "output_type": "execute_result"
    }
   ],
   "source": [
    "# Variance Equation # 1 - Your code here\n",
    "variance1 = 0\n",
    "for keys in normalized_dict:\n",
    "    var1 = (letter_dict[keys]-expectation1)**2*normalized_dict[keys]\n",
    "    variance1 = variance1 + var1\n",
    "variance1"
   ]
  },
  {
   "cell_type": "code",
   "execution_count": 435,
   "metadata": {},
   "outputs": [
    {
     "data": {
      "text/plain": [
       "44.004362482649185"
      ]
     },
     "execution_count": 435,
     "metadata": {},
     "output_type": "execute_result"
    }
   ],
   "source": [
    "# Variance Equation # 2 - Your code here\n",
    "expectation2 = 0\n",
    "for keys in normalized_dict:\n",
    "    exp2 = normalized_dict[keys]*(letter_dict[keys]**2)\n",
    "    expectation2 = expectation2 + exp2\n",
    "variance2 = expectation2 - expectation1**2\n",
    "variance2"
   ]
  }
 ],
 "metadata": {
  "kernelspec": {
   "display_name": "Python 3",
   "language": "python",
   "name": "python3"
  },
  "language_info": {
   "codemirror_mode": {
    "name": "ipython",
    "version": 3
   },
   "file_extension": ".py",
   "mimetype": "text/x-python",
   "name": "python",
   "nbconvert_exporter": "python",
   "pygments_lexer": "ipython3",
   "version": "3.7.4"
  }
 },
 "nbformat": 4,
 "nbformat_minor": 2
}
