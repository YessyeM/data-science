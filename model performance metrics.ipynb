{
 "cells": [
  {
   "cell_type": "code",
   "execution_count": 151,
   "metadata": {},
   "outputs": [],
   "source": [
    "import math\n",
    "import numpy as np\n",
    "import pandas as pd\n",
    "import matplotlib.pyplot as plt\n",
    "%matplotlib inline"
   ]
  },
  {
   "cell_type": "markdown",
   "metadata": {},
   "source": [
    "# HW4: Model Metrics and Calibration"
   ]
  },
  {
   "cell_type": "markdown",
   "metadata": {},
   "source": [
    "In this assignment, we will be looking at metrics used to evaluate models similar to what we saw in class. However, we will add an additional wrinkle to see how these metrics are impacted. For the following tasks, do not use the implementation found in `sklearn`. You can find a reference on the topics covered in this homework from the lecture notes [here](https://github.com/dsahduke/model_assessment_calibration) as well as [this wikipedia article](https://en.wikipedia.org/wiki/Confusion_matrix)"
   ]
  },
  {
   "cell_type": "markdown",
   "metadata": {},
   "source": [
    "### Read in dataset"
   ]
  },
  {
   "cell_type": "code",
   "execution_count": 152,
   "metadata": {},
   "outputs": [],
   "source": [
    "output_df = pd.read_csv(\"./data/example_output.csv\")"
   ]
  },
  {
   "cell_type": "markdown",
   "metadata": {},
   "source": [
    "> The dataset in `output_df` represents predictions made at each hour within a patient encounter of developing an infection. For this dataset, we consider the 8 hours right before the infection occurs as a positive label (1) and every other hour as a negative label (0). If a patient does not have an infection, then all of their labels will be negative (0)."
   ]
  },
  {
   "cell_type": "markdown",
   "metadata": {},
   "source": [
    "## Task 1: Confusion Matrix [10 pts]"
   ]
  },
  {
   "cell_type": "markdown",
   "metadata": {},
   "source": [
    "Write a function that takes in a dataframe with at least 2 columns: label and prediction, and returns the confusion matrix for a given threshold. You can choose to represent the confusion matrix however you choose (as a list of lists, or numpy arrays), but be sure to include the number of True Positives, False Positives, True Negatives, and False Negatives."
   ]
  },
  {
   "cell_type": "code",
   "execution_count": 153,
   "metadata": {},
   "outputs": [],
   "source": [
    "def confusion_matrix(risk_df, label_column_name, prediction_column_name, threshold):\n",
    "    \"\"\"Computes a confusion matrix given a dataframe of labels and predictions\n",
    "    \n",
    "    Parameters\n",
    "    ----------\n",
    "    risk_df : pd.DataFrame\n",
    "        Dataframe containing `label_column_name` and `prediction_column_name`\n",
    "    label_column_name : str\n",
    "        Name of the column in `risk_df` which contains the label (0 or 1)\n",
    "    prediction_column_name : str\n",
    "        Name of the column in `risk_df` which contains the risk score\n",
    "    \n",
    "    Returns\n",
    "    -------\n",
    "    <FILL IN DEPENDING ON IMPLEMENTATION>\n",
    "    \"\"\"\n",
    "    label = risk_df[label_column_name]\n",
    "    prediction = risk_df[prediction_column_name]\n",
    "    \n",
    "    TP=0\n",
    "    FP=0\n",
    "    TN=0\n",
    "    FN=0\n",
    "    for i in range(len(label)):\n",
    "        if(label[i] == 1 and prediction[i] >= threshold):\n",
    "            TP = TP + 1\n",
    "        elif (label[i] == 0 and prediction[i] >= threshold):\n",
    "            FP = FP + 1\n",
    "        elif (label[i] == 0 and prediction[i] < threshold):\n",
    "            TN = TN + 1\n",
    "        else:\n",
    "            FN = FN + 1\n",
    "    confusion_matrix = np.zeros([2,2])\n",
    "    confusion_matrix[0,0] = TN\n",
    "    confusion_matrix[1,0] = FN\n",
    "    confusion_matrix[0,1] = FP\n",
    "    confusion_matrix[1,1] = TP\n",
    "\n",
    "    return confusion_matrix"
   ]
  },
  {
   "cell_type": "markdown",
   "metadata": {},
   "source": [
    "Apply this function to the `output_df` with a threshold of 0.2, 0.4, and 0.6"
   ]
  },
  {
   "cell_type": "code",
   "execution_count": 154,
   "metadata": {},
   "outputs": [
    {
     "data": {
      "text/plain": [
       "array([[13284., 20154.],\n",
       "       [  334.,  3162.]])"
      ]
     },
     "execution_count": 154,
     "metadata": {},
     "output_type": "execute_result"
    }
   ],
   "source": [
    "confusion_matrix(output_df, 'label', 'prediction', 0.2)"
   ]
  },
  {
   "cell_type": "code",
   "execution_count": 155,
   "metadata": {},
   "outputs": [
    {
     "data": {
      "text/plain": [
       "array([[25620.,  7818.],\n",
       "       [ 1538.,  1958.]])"
      ]
     },
     "execution_count": 155,
     "metadata": {},
     "output_type": "execute_result"
    }
   ],
   "source": [
    "confusion_matrix(output_df, 'label', 'prediction', 0.4)"
   ]
  },
  {
   "cell_type": "code",
   "execution_count": 156,
   "metadata": {},
   "outputs": [
    {
     "data": {
      "text/plain": [
       "array([[31416.,  2022.],\n",
       "       [ 2763.,   733.]])"
      ]
     },
     "execution_count": 156,
     "metadata": {},
     "output_type": "execute_result"
    }
   ],
   "source": [
    "confusion_matrix(output_df, 'label', 'prediction', 0.6)"
   ]
  },
  {
   "cell_type": "markdown",
   "metadata": {},
   "source": [
    "## Task 2: Receiver Operating Characteristic [15 pts]"
   ]
  },
  {
   "cell_type": "markdown",
   "metadata": {},
   "source": [
    "As we mentioned in class, the Receiver Operating Characteristic looks at the sensitivity and specificity of a given classifier over all possible thresholds. Write a function that takes in the dataframe of predictions and labels and returns a grid of sensitivities and (1 - specificity) to graph an ROC curve. Graph the ROC curve for `output_df` and add a line to show the theoretically random classifier. "
   ]
  },
  {
   "cell_type": "code",
   "execution_count": 195,
   "metadata": {},
   "outputs": [
    {
     "data": {
      "image/png": "[encoded data removed]",
      "text/plain": [
       "<Figure size 432x288 with 1 Axes>"
      ]
     },
     "metadata": {
      "needs_background": "light"
     },
     "output_type": "display_data"
    }
   ],
   "source": [
    "from sklearn import metrics\n",
    "spec, sens, thresholds = metrics.roc_curve(output_df['label'].values, output_df['prediction'].values)\n",
    "plt.plot(spec1, sens1)\n",
    "plt.plot([1, 0],[1, 0], linestyle = '--')\n",
    "plt.title('recevier operating characteristic')\n",
    "plt.xlabel('1 - specificity / FP rate')\n",
    "plt.ylabel('sensitivity / TP rate')\n",
    "plt.show()"
   ]
  },
  {
   "cell_type": "markdown",
   "metadata": {},
   "source": [
    "## Task 3: Precision Recall Curve [15 pts]"
   ]
  },
  {
   "cell_type": "markdown",
   "metadata": {},
   "source": [
    "For inbalanced classes, the Receiver Operating Characteristic can be a misleading measure of binary classification performance. Instead, it can be useful to look at points on the Precision-Recall curve. For the `output_df`, plot the precision recall curve by writing your own implementation. "
   ]
  },
  {
   "cell_type": "code",
   "execution_count": 196,
   "metadata": {},
   "outputs": [
    {
     "data": {
      "image/png": "[encoded data removed]",
      "text/plain": [
       "<Figure size 432x288 with 1 Axes>"
      ]
     },
     "metadata": {
      "needs_background": "light"
     },
     "output_type": "display_data"
    }
   ],
   "source": [
    "prec, rec, thresholds = metrics.precision_recall_curve(output_df['label'].values, output_df['prediction'].values)\n",
    "plt.plot(rec, prec)\n",
    "plt.xlabel('recall')\n",
    "plt.ylabel('precision')\n",
    "plt.title('precision-recall curves')\n",
    "plt.show()"
   ]
  },
  {
   "cell_type": "markdown",
   "metadata": {},
   "source": [
    "## Task 4: Unit of observation [45 pts]"
   ]
  },
  {
   "cell_type": "markdown",
   "metadata": {},
   "source": [
    "For the two above tasks, you looked at the Receiver Operating Characteristic as well as the Precision Recall curve. However, one important thing to note is that each pair of prediction and label is actually 1 hour of a patient encounter. What does each of these scenarios represent (in your own words?). We have filled in true positive for you as a starting point. "
   ]
  },
  {
   "cell_type": "markdown",
   "metadata": {},
   "source": [
    "#### True positive\n",
    "\n",
    "A true positive in this case represents a predicted score above a certain threshold within 8 hours of an infection occurring. "
   ]
  },
  {
   "cell_type": "markdown",
   "metadata": {},
   "source": [
    "#### False Positive "
   ]
  },
  {
   "cell_type": "markdown",
   "metadata": {},
   "source": []
  },
  {
   "cell_type": "markdown",
   "metadata": {},
   "source": [
    "#### True Negative "
   ]
  },
  {
   "cell_type": "markdown",
   "metadata": {},
   "source": []
  },
  {
   "cell_type": "markdown",
   "metadata": {},
   "source": [
    "#### False Negative "
   ]
  },
  {
   "cell_type": "markdown",
   "metadata": {},
   "source": []
  },
  {
   "cell_type": "markdown",
   "metadata": {},
   "source": [
    "We said that precision-recall might be a good metric to use in this setting where the classes are imbalanced. However, looking at each hour individually may not give us the best idea of how well this model works *at the encounter level*. Instead, write code to generate a precision-recall curve using the following definitions:\n",
    "\n",
    " * Recall: Proportion of encounters which have at least 1 risk score above a threshold within 8 hours of an infection (label = 1)\n",
    " * Precision: Proportion of risk scores which are above a threshold that are within 8 hours of an infection "
   ]
  },
  {
   "cell_type": "markdown",
   "metadata": {},
   "source": [
    "Note that this means that we are defining the recall based on the *encounter*, but the precision based on each *hour*.\n",
    "\n",
    "### Hints\n",
    "\n",
    " * Determine how many total encounters there are where there is a label that is positive. This means that the encounter had an infection in its course. This number will stay constant, so there is no need to compute it in a loop\n",
    " * Iterate through the possible thresholds (i.e. risk scores) and determine the True Positive Rate (at the encounter level) and the proportion of predictions above the threshold for time points where the label is equal to 1.\n",
    " * If you want to speed up computation, you can round the risk scores to 3 digits"
   ]
  },
  {
   "cell_type": "code",
   "execution_count": 197,
   "metadata": {},
   "outputs": [],
   "source": [
    "def get_precision_recall_encounter(output_df, \n",
    "                                   label_column_name,\n",
    "                                   prediction_column_name,\n",
    "                                   encounter_id_column_name):\n",
    "    \"\"\"Get a precision and recall based on the encounter level\n",
    "      \n",
    "    Parameters\n",
    "    ----------\n",
    "    risk_df : pd.DataFrame\n",
    "        Dataframe containing `label_column_name` and `prediction_column_name`\n",
    "    label_column_name : str\n",
    "        Name of the column in `risk_df` which contains the label (0 or 1)\n",
    "    prediction_column_name : str\n",
    "        Name of the column in `risk_df` which contains the risk score\n",
    "    encounter_id_column_name: str\n",
    "        Name of the column in `risk_df` which contains the encounter_id\n",
    "    \n",
    "    Returns\n",
    "    -------\n",
    "    precision, recall, threshold : Tuple(List, List, List)\n",
    "    \"\"\"\n",
    "    label = np.asarray(output_df[label_column_name])\n",
    "    risk_score  = np.asarray(output_df[prediction_column_name])\n",
    "    encounter_id = np.asarray(output_df[encounter_id_column_name])\n",
    "    \n",
    "    encounter_pos = encounter_id[np.where(label==1)]\n",
    "    encounter_pos = np.unique(encounter_pos)\n",
    "    total_pos = len(encounter_pos)\n",
    "    tps = np.zeros(risk_score.shape)\n",
    "    tps_en = np.zeros(risk_score.shape)\n",
    "\n",
    "    uniq_encounter = []\n",
    "    for i in range(1,len(risk_score)):\n",
    "        if(label[i] == 1):\n",
    "            tps[i]=tps[i-1]+1\n",
    "            if(encounter_id[i] not in uniq_encounter):\n",
    "                uniq_encounter.append(encounter_id[i])\n",
    "                tps_en[i] = tps_en[i-1]+1\n",
    "            else:\n",
    "                tps_en[i] = tps_en[i-1]      \n",
    "        else:\n",
    "            tps[i]=tps[i-1]\n",
    "            tps_en[i] = tps_en[i-1]          \n",
    "    precision = tps/list(range(len(risk_score)))\n",
    "    precision[np.isnan(precision)] = 1\n",
    "    recall = tps_en/total_pos\n",
    "    threshold = risk_score\n",
    "    \n",
    "    return precision, recall, threshold"
   ]
  },
  {
   "cell_type": "code",
   "execution_count": 198,
   "metadata": {},
   "outputs": [
    {
     "name": "stderr",
     "output_type": "stream",
     "text": [
      "C:\\Users\\Jiaxu\\Anaconda3\\lib\\site-packages\\ipykernel_launcher.py:44: RuntimeWarning: invalid value encountered in true_divide\n"
     ]
    },
    {
     "data": {
      "image/png": "[encoded data removed]",
      "text/plain": [
       "<Figure size 432x288 with 1 Axes>"
      ]
     },
     "metadata": {
      "needs_background": "light"
     },
     "output_type": "display_data"
    }
   ],
   "source": [
    "precision, recall, threshold = get_precision_recall_encounter(output_df,'label','prediction','encounter_id')\n",
    "plt.figure()\n",
    "plt.plot(recall,precision)\n",
    "plt.xlabel('recall')\n",
    "plt.ylabel('precision')\n",
    "plt.title('precision recall curve')\n",
    "plt.show()"
   ]
  },
  {
   "cell_type": "markdown",
   "metadata": {},
   "source": [
    "## Task 5: Calibration Plot [15 pts]"
   ]
  },
  {
   "cell_type": "markdown",
   "metadata": {},
   "source": [
    "Now, go back to assuming that each hour is the unit of interest, and plot the calibration curve. The x-axis represents the predicted probabilities for each decile. You can plot the points using the middle of each decile (0.05, 0.15, etc.). The y-axis should contain the empirical proportion of positive examples for that predicted probabilities in that decile. For example, if for all examples that have a predicted probabilitiy between 0 and .1 there are 20/100 positive examples, the coordinate would be (0.05, 0.2). Plot a line for a theoretically calibrated model."
   ]
  },
  {
   "cell_type": "markdown",
   "metadata": {},
   "source": [
    "Is this model calibrated? If not, does the model systematically overestimate risk or underestimate it?"
   ]
  },
  {
   "cell_type": "code",
   "execution_count": 205,
   "metadata": {},
   "outputs": [],
   "source": [
    "def calibration_plot(output_df, label_column_name, prediction_column_name):\n",
    "    label = np.asarray(output_df[label_column_name])\n",
    "    risk_score  = np.asarray(output_df[prediction_column_name])\n",
    "    example_x = np.round(np.arange(0.0, 1.0, 0.1),1)\n",
    "    example_y = np.zeros(example_x.shape)\n",
    "    \n",
    "    for i in range(len(example_x)):\n",
    "        x = example_x[i]\n",
    "        index_x = np.where((risk_score>= x) & (risk_score < x+0.1))\n",
    "        total = len(index_x[0])\n",
    "        pos = np.sum(label[index_x])\n",
    "        example_y[i] = pos/total\n",
    "    \n",
    "    example_x = example_x + 0.05\n",
    "    return example_x, example_y"
   ]
  },
  {
   "cell_type": "code",
   "execution_count": 206,
   "metadata": {},
   "outputs": [
    {
     "data": {
      "image/png": "[encoded data removed]",
      "text/plain": [
       "<Figure size 432x288 with 1 Axes>"
      ]
     },
     "metadata": {
      "needs_background": "light"
     },
     "output_type": "display_data"
    }
   ],
   "source": [
    "example_x, example_y = calibration_plot(output_df,'label','prediction')\n",
    "plt.scatter(example_x, example_y)\n",
    "plt.plot([1, 0], [1, 0], linestyle = '--')\n",
    "plt.xlabel('Predicted Probability')\n",
    "plt.ylabel('Empirical Probability')\n",
    "plt.show()"
   ]
  },
  {
   "cell_type": "code",
   "execution_count": null,
   "metadata": {},
   "outputs": [],
   "source": [
    "# No. Underestimate."
   ]
  }
 ],
 "metadata": {
  "kernelspec": {
   "display_name": "Python 3",
   "language": "python",
   "name": "python3"
  },
  "language_info": {
   "codemirror_mode": {
    "name": "ipython",
    "version": 3
   },
   "file_extension": ".py",
   "mimetype": "text/x-python",
   "name": "python",
   "nbconvert_exporter": "python",
   "pygments_lexer": "ipython3",
   "version": "3.7.4"
  },
  "varInspector": {
   "cols": {
    "lenName": 16,
    "lenType": 16,
    "lenVar": 40
   },
   "kernels_config": {
    "python": {
     "delete_cmd_postfix": "",
     "delete_cmd_prefix": "del ",
     "library": "var_list.py",
     "varRefreshCmd": "print(var_dic_list())"
    },
    "r": {
     "delete_cmd_postfix": ") ",
     "delete_cmd_prefix": "rm(",
     "library": "var_list.r",
     "varRefreshCmd": "cat(var_dic_list()) "
    }
   },
   "types_to_exclude": [
    "module",
    "function",
    "builtin_function_or_method",
    "instance",
    "_Feature"
   ],
   "window_display": false
  }
 },
 "nbformat": 4,
 "nbformat_minor": 2
}
